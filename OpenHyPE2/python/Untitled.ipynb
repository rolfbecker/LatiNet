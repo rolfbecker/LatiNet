{
 "cells": [
  {
   "cell_type": "code",
   "execution_count": 1,
   "id": "b4abeb0c-1ab3-40ab-91ba-20e360ab354e",
   "metadata": {},
   "outputs": [
    {
     "name": "stdout",
     "output_type": "stream",
     "text": [
      "\u001b[33mThere's a new jupysql version available (0.10.3), you're running 0.10.1. To upgrade: pip install jupysql --upgrade\u001b[0m\n"
     ]
    }
   ],
   "source": [
    "%load_ext sql"
   ]
  },
  {
   "cell_type": "code",
   "execution_count": 2,
   "id": "56062f44-0b5f-43a2-8dce-bec621ad6105",
   "metadata": {},
   "outputs": [],
   "source": [
    "%sql sqlite:///opendata.gw_chemischer_messwert.sqlite"
   ]
  },
  {
   "cell_type": "code",
   "execution_count": null,
   "id": "1d8d5f49-c5e2-4a68-930b-2ccc84a9f128",
   "metadata": {},
   "outputs": [],
   "source": []
  }
 ],
 "metadata": {
  "kernelspec": {
   "display_name": "Python 3 (ipykernel)",
   "language": "python",
   "name": "python3"
  },
  "language_info": {
   "codemirror_mode": {
    "name": "ipython",
    "version": 3
   },
   "file_extension": ".py",
   "mimetype": "text/x-python",
   "name": "python",
   "nbconvert_exporter": "python",
   "pygments_lexer": "ipython3",
   "version": "3.12.0"
  }
 },
 "nbformat": 4,
 "nbformat_minor": 5
}
